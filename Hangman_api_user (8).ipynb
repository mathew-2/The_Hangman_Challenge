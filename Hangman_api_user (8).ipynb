{
  "cells": [
    {
      "cell_type": "markdown",
      "metadata": {
        "id": "QPy1z0Xd0GIO"
      },
      "source": [
        "# Trexquant Interview Project (The Hangman Game)\n",
        "\n",
        "* Copyright Trexquant Investment LP. All Rights Reserved.\n",
        "* Redistribution of this question without written consent from Trexquant is prohibited"
      ]
    },
    {
      "cell_type": "markdown",
      "metadata": {
        "id": "bt4ajKyS0GIR"
      },
      "source": [
        "## Instruction:\n",
        "For this coding test, your mission is to write an algorithm that plays the game of Hangman through our API server.\n",
        "\n",
        "When a user plays Hangman, the server first selects a secret word at random from a list. The server then returns a row of underscores (space separated)—one for each letter in the secret word—and asks the user to guess a letter. If the user guesses a letter that is in the word, the word is redisplayed with all instances of that letter shown in the correct positions, along with any letters correctly guessed on previous turns. If the letter does not appear in the word, the user is charged with an incorrect guess. The user keeps guessing letters until either (1) the user has correctly guessed all the letters in the word\n",
        "or (2) the user has made six incorrect guesses.\n",
        "\n",
        "You are required to write a \"guess\" function that takes current word (with underscores) as input and returns a guess letter. You will use the API codes below to play 1,000 Hangman games. You have the opportunity to practice before you want to start recording your game results.\n",
        "\n",
        "Your algorithm is permitted to use a training set of approximately 250,000 dictionary words. Your algorithm will be tested on an entirely disjoint set of 250,000 dictionary words. Please note that this means the words that you will ultimately be tested on do NOT appear in the dictionary that you are given. You are not permitted to use any dictionary other than the training dictionary we provided. This requirement will be strictly enforced by code review.\n",
        "\n",
        "You are provided with a basic, working algorithm. This algorithm will match the provided masked string (e.g. a _ _ l e) to all possible words in the dictionary, tabulate the frequency of letters appearing in these possible words, and then guess the letter with the highest frequency of appearence that has not already been guessed. If there are no remaining words that match then it will default back to the character frequency distribution of the entire dictionary.\n",
        "\n",
        "This benchmark strategy is successful approximately 18% of the time. Your task is to design an algorithm that significantly outperforms this benchmark."
      ]
    },
    {
      "cell_type": "code",
      "execution_count": 1,
      "metadata": {
        "id": "zRm1I4Hs0GIS",
        "scrolled": true
      },
      "outputs": [],
      "source": [
        "import re\n",
        "import tensorflow\n",
        "import numpy as np\n",
        "import string\n",
        "from tensorflow.keras.models import Sequential\n",
        "from tensorflow.keras.layers import LSTM, Dense, Bidirectional, Embedding\n",
        "from sklearn.model_selection import train_test_split\n",
        "import json\n",
        "import requests\n",
        "import time\n",
        "import collections\n",
        "\n",
        "try:\n",
        "    from urllib.parse import parse_qs, urlencode, urlparse\n",
        "except ImportError:\n",
        "    from urlparse import parse_qs, urlparse\n",
        "    from urllib import urlencode\n",
        "\n",
        "from requests.packages.urllib3.exceptions import InsecureRequestWarning\n",
        "\n",
        "requests.packages.urllib3.disable_warnings(InsecureRequestWarning)"
      ]
    },
    {
      "cell_type": "code",
      "execution_count": 3,
      "metadata": {
        "colab": {
          "base_uri": "https://localhost:8080/"
        },
        "id": "uMWXhN3k0GIU",
        "outputId": "c109f342-bf2f-4019-df5a-96541bb1713d"
      },
      "outputs": [
        {
          "metadata": {
            "tags": null
          },
          "name": "stderr",
          "output_type": "stream",
          "text": [
            "/usr/local/lib/python3.10/dist-packages/keras/src/layers/core/embedding.py:90: UserWarning: Argument `input_length` is deprecated. Just remove it.\n",
            "  warnings.warn(\n"
          ]
        },
        {
          "output_type": "stream",
          "name": "stdout",
          "text": [
            "Epoch 1/10\n",
            "\u001b[1m53984/53984\u001b[0m \u001b[32m━━━━━━━━━━━━━━━━━━━━\u001b[0m\u001b[37m\u001b[0m \u001b[1m407s\u001b[0m 7ms/step - accuracy: 0.6367 - loss: 1.3124 - val_accuracy: 0.6696 - val_loss: 1.1983\n",
            "Epoch 2/10\n",
            "\u001b[1m53984/53984\u001b[0m \u001b[32m━━━━━━━━━━━━━━━━━━━━\u001b[0m\u001b[37m\u001b[0m \u001b[1m446s\u001b[0m 8ms/step - accuracy: 0.6721 - loss: 1.1893 - val_accuracy: 0.6756 - val_loss: 1.1802\n",
            "Epoch 3/10\n",
            "\u001b[1m53984/53984\u001b[0m \u001b[32m━━━━━━━━━━━━━━━━━━━━\u001b[0m\u001b[37m\u001b[0m \u001b[1m433s\u001b[0m 7ms/step - accuracy: 0.6780 - loss: 1.1705 - val_accuracy: 0.6789 - val_loss: 1.1703\n",
            "Epoch 4/10\n",
            "\u001b[1m53984/53984\u001b[0m \u001b[32m━━━━━━━━━━━━━━━━━━━━\u001b[0m\u001b[37m\u001b[0m \u001b[1m486s\u001b[0m 8ms/step - accuracy: 0.6817 - loss: 1.1593 - val_accuracy: 0.6806 - val_loss: 1.1658\n",
            "Epoch 5/10\n",
            "\u001b[1m53984/53984\u001b[0m \u001b[32m━━━━━━━━━━━━━━━━━━━━\u001b[0m\u001b[37m\u001b[0m \u001b[1m463s\u001b[0m 7ms/step - accuracy: 0.6838 - loss: 1.1528 - val_accuracy: 0.6810 - val_loss: 1.1626\n",
            "Epoch 6/10\n",
            "\u001b[1m53984/53984\u001b[0m \u001b[32m━━━━━━━━━━━━━━━━━━━━\u001b[0m\u001b[37m\u001b[0m \u001b[1m444s\u001b[0m 8ms/step - accuracy: 0.6847 - loss: 1.1501 - val_accuracy: 0.6817 - val_loss: 1.1606\n",
            "Epoch 7/10\n",
            "\u001b[1m53984/53984\u001b[0m \u001b[32m━━━━━━━━━━━━━━━━━━━━\u001b[0m\u001b[37m\u001b[0m \u001b[1m401s\u001b[0m 7ms/step - accuracy: 0.6859 - loss: 1.1454 - val_accuracy: 0.6829 - val_loss: 1.1583\n",
            "Epoch 8/10\n",
            "\u001b[1m53984/53984\u001b[0m \u001b[32m━━━━━━━━━━━━━━━━━━━━\u001b[0m\u001b[37m\u001b[0m \u001b[1m441s\u001b[0m 7ms/step - accuracy: 0.6875 - loss: 1.1417 - val_accuracy: 0.6834 - val_loss: 1.1566\n",
            "Epoch 9/10\n",
            "\u001b[1m53984/53984\u001b[0m \u001b[32m━━━━━━━━━━━━━━━━━━━━\u001b[0m\u001b[37m\u001b[0m \u001b[1m445s\u001b[0m 8ms/step - accuracy: 0.6880 - loss: 1.1405 - val_accuracy: 0.6836 - val_loss: 1.1564\n",
            "Epoch 10/10\n",
            "\u001b[1m53984/53984\u001b[0m \u001b[32m━━━━━━━━━━━━━━━━━━━━\u001b[0m\u001b[37m\u001b[0m \u001b[1m477s\u001b[0m 8ms/step - accuracy: 0.6886 - loss: 1.1388 - val_accuracy: 0.6835 - val_loss: 1.1554\n"
          ]
        }
      ],
      "source": [
        "import random\n",
        "\n",
        "# Step 1: Data Preprocessing\n",
        "def preprocess_data(dictionary_file, sample_size=None):\n",
        "    # Load words from dictionary\n",
        "    with open(dictionary_file, \"r\") as f:\n",
        "        words = f.read().splitlines()\n",
        "\n",
        "    # Optionally sample a subset of words\n",
        "    if sample_size:\n",
        "        words = random.sample(words, sample_size)\n",
        "\n",
        "    # Create character mappings\n",
        "    letters = string.ascii_lowercase\n",
        "    char_to_idx = {ch: idx + 1 for idx, ch in enumerate(letters)}\n",
        "    idx_to_char = {idx + 1: ch for idx, ch in enumerate(letters)}\n",
        "\n",
        "    max_word_len = 20\n",
        "    encoded_words = []\n",
        "\n",
        "    # Encode and pad words\n",
        "    for word in words:\n",
        "        encoded_word = [char_to_idx.get(ch, 0) for ch in word[:max_word_len]]\n",
        "        padded_word = [0] * (max_word_len - len(encoded_word)) + encoded_word\n",
        "        encoded_words.append(padded_word)\n",
        "\n",
        "    # Generate input sequences and labels\n",
        "    X, y = [], []\n",
        "    for word in encoded_words:\n",
        "        for i in range(1, len(word)):\n",
        "            X.append(word[:i])\n",
        "            y.append(word[i])\n",
        "\n",
        "    # Convert to numpy arrays and pad sequences\n",
        "    X = np.array([np.pad(seq, (max_word_len - len(seq), 0), 'constant') for seq in X])\n",
        "    y = np.array(y)\n",
        "\n",
        "    return X, y, char_to_idx, idx_to_char\n",
        "\n",
        "# Step 2: Building the LSTM Model\n",
        "def build_lstm_model(vocab_size, input_length):\n",
        "    model = Sequential([\n",
        "        Embedding(input_dim=vocab_size, output_dim=64, input_length=input_length),\n",
        "        Bidirectional(LSTM(128)),\n",
        "        Dense(vocab_size, activation=\"softmax\")\n",
        "    ])\n",
        "    model.compile(loss=\"sparse_categorical_crossentropy\", optimizer=\"adam\", metrics=[\"accuracy\"])\n",
        "    return model\n",
        "\n",
        "# Step 3: Training the Model\n",
        "def train_model(X, y, vocab_size):\n",
        "    input_length = X.shape[1]\n",
        "    model = build_lstm_model(vocab_size, input_length)\n",
        "\n",
        "    X_train, X_test, y_train, y_test = train_test_split(X, y, test_size=0.2, random_state=42)\n",
        "\n",
        "    # Train with batch size 64\n",
        "    model.fit(X_train, y_train, epochs=10, batch_size=64, validation_data=(X_test, y_test))\n",
        "\n",
        "    return model\n",
        "\n",
        "# Main script to preprocess data and train the model\n",
        "sample_size = None  # Set a sample size if needed, otherwise use the full dataset\n",
        "X, y, char_to_idx, idx_to_char = preprocess_data(\"words_250000_train.txt\", sample_size)\n",
        "\n",
        "vocab_size = len(char_to_idx) + 1  # Adding 1 for padding\n",
        "lstm_model = train_model(X, y, vocab_size)"
      ]
    },
    {
      "cell_type": "code",
      "execution_count": 11,
      "metadata": {
        "id": "B2pUp0Fq0GIU"
      },
      "outputs": [],
      "source": [
        "class HangmanAPI(object):\n",
        "    def __init__(self, access_token=None, session=None, timeout=None):\n",
        "        self.hangman_url = self.determine_hangman_url()\n",
        "        self.access_token = access_token\n",
        "        self.session = session or requests.Session()\n",
        "        self.timeout = timeout\n",
        "        self.guessed_letters = []\n",
        "\n",
        "        full_dictionary_location = \"words_250000_train.txt\"\n",
        "        self.full_dictionary = self.build_dictionary(full_dictionary_location)\n",
        "        self.full_dictionary_common_letter_sorted = collections.Counter(\"\".join(self.full_dictionary)).most_common()\n",
        "\n",
        "        self.current_dictionary = []\n",
        "\n",
        "    @staticmethod\n",
        "    def determine_hangman_url():\n",
        "        links = ['https://trexsim.com', 'https://sg.trexsim.com']\n",
        "\n",
        "        data = {link: 0 for link in links}\n",
        "\n",
        "        for link in links:\n",
        "            requests.get(link)\n",
        "            for i in range(10):\n",
        "                s = time.time()\n",
        "                requests.get(link)\n",
        "                data[link] = time.time() - s\n",
        "\n",
        "        link = sorted(data.items(), key=lambda x: x[1])[0][0]\n",
        "        link += '/trexsim/hangman'\n",
        "        return link\n",
        "\n",
        "    def guess(self, word):\n",
        "        # Clean and prepare the word for the model (remove underscores, replace with padding indicator)\n",
        "        clean_word = word.replace(\"_\", \"0\")\n",
        "\n",
        "        # Convert characters to indices using char_to_idx mapping\n",
        "        input_seq = [char_to_idx.get(ch, 0) for ch in clean_word]\n",
        "\n",
        "        # Ensure that the input sequence length does not exceed the maximum length (truncate if necessary)\n",
        "        if len(input_seq) > 20:\n",
        "            input_seq = input_seq[:20]\n",
        "\n",
        "        # Pad the sequence to the expected input length for the model if it's shorter than the max length\n",
        "        input_seq = np.pad(input_seq, (20 - len(input_seq), 0), mode='constant', constant_values=0)\n",
        "\n",
        "        # Prepare input for prediction (batch size of 1)\n",
        "        input_seq = np.array([input_seq])\n",
        "\n",
        "        # Get model predictions\n",
        "        predictions = lstm_model.predict(input_seq)\n",
        "        pred_idx = np.argmax(predictions[0])\n",
        "\n",
        "        # Map the predicted index back to a character\n",
        "        guess_letter = idx_to_char.get(pred_idx, '!')\n",
        "\n",
        "        # If the letter was already guessed, use a frequency-based fallback\n",
        "        if guess_letter in self.guessed_letters:\n",
        "            for letter, _ in self.full_dictionary_common_letter_sorted:\n",
        "                if letter not in self.guessed_letters:\n",
        "                    guess_letter = letter\n",
        "                    break\n",
        "\n",
        "        return guess_letter\n",
        "\n",
        "\n",
        "    def build_dictionary(self, dictionary_file_location):\n",
        "        text_file = open(dictionary_file_location, \"r\")\n",
        "        full_dictionary = text_file.read().splitlines()\n",
        "        text_file.close()\n",
        "        return full_dictionary\n",
        "\n",
        "    def start_game(self, practice=True, verbose=True):\n",
        "        # reset guessed letters to empty set and current plausible dictionary to the full dictionary\n",
        "        self.guessed_letters = []\n",
        "        self.current_dictionary = self.full_dictionary\n",
        "\n",
        "        response = self.request(\"/new_game\", {\"practice\": practice})\n",
        "        if response.get('status') == \"approved\":\n",
        "            game_id = response.get('game_id')\n",
        "            word = response.get('word')\n",
        "            tries_remains = response.get('tries_remains')\n",
        "            if verbose:\n",
        "                print(f\"Successfully start a new game! Game ID: {game_id}. # of tries remaining: {tries_remains}. Word: {word}.\")\n",
        "            while tries_remains > 0:\n",
        "                # get guessed letter from user code\n",
        "                guess_letter = self.guess(word)\n",
        "\n",
        "                # append guessed letter to guessed letters field in hangman object\n",
        "                self.guessed_letters.append(guess_letter)\n",
        "                if verbose:\n",
        "                    print(f\"Guessing letter: {guess_letter}\")\n",
        "\n",
        "                try:\n",
        "                    res = self.request(\"/guess_letter\", {\"request\": \"guess_letter\", \"game_id\": game_id, \"letter\": guess_letter})\n",
        "                except HangmanAPIError:\n",
        "                    print('HangmanAPIError exception caught on request.')\n",
        "                    continue\n",
        "                except Exception as e:\n",
        "                    print('Other exception caught on request.')\n",
        "                    raise e\n",
        "\n",
        "                if verbose:\n",
        "                    print(f\"Sever response: {res}\")\n",
        "                status = res.get('status')\n",
        "                tries_remains = res.get('tries_remains')\n",
        "                if status == \"success\":\n",
        "                    if verbose:\n",
        "                        print(f\"Successfully finished game: {game_id}\")\n",
        "                    return True\n",
        "                elif status == \"failed\":\n",
        "                    reason = res.get('reason', '# of tries exceeded!')\n",
        "                    if verbose:\n",
        "                        print(f\"Failed game: {game_id}. Because of: {reason}\")\n",
        "                    return False\n",
        "                elif status == \"ongoing\":\n",
        "                    word = res.get('word')\n",
        "        else:\n",
        "            if verbose:\n",
        "                print(\"Failed to start a new game\")\n",
        "        return status == \"success\"\n",
        "\n",
        "    def my_status(self):\n",
        "        return self.request(\"/my_status\", {})\n",
        "\n",
        "    def request(self, path, args=None, post_args=None, method=None):\n",
        "        if args is None:\n",
        "            args = dict()\n",
        "        if post_args is not None:\n",
        "            method = \"POST\"\n",
        "\n",
        "        # Add `access_token` to post_args or args if it has not already been included.\n",
        "        if self.access_token:\n",
        "            # If post_args exists, we assume that args either does not exist or does not need `access_token`.\n",
        "            if post_args and \"access_token\" not in post_args:\n",
        "                post_args[\"access_token\"] = self.access_token\n",
        "            elif \"access_token\" not in args:\n",
        "                args[\"access_token\"] = self.access_token\n",
        "\n",
        "        time.sleep(0.2)\n",
        "\n",
        "        num_retry, time_sleep = 50, 2\n",
        "        for it in range(num_retry):\n",
        "            try:\n",
        "                response = self.session.request(\n",
        "                    method or \"GET\",\n",
        "                    self.hangman_url + path,\n",
        "                    timeout=self.timeout,\n",
        "                    params=args,\n",
        "                    data=post_args,\n",
        "                    verify=False\n",
        "                )\n",
        "                break\n",
        "            except requests.HTTPError as e:\n",
        "                response = json.loads(e.read())\n",
        "                raise HangmanAPIError(response)\n",
        "            except requests.exceptions.SSLError as e:\n",
        "                if it + 1 == num_retry:\n",
        "                    raise\n",
        "                time.sleep(time_sleep)\n",
        "\n",
        "        headers = response.headers\n",
        "        if 'json' in headers['content-type']:\n",
        "            result = response.json()\n",
        "        elif \"access_token\" in parse_qs(response.text):\n",
        "            query_str = parse_qs(response.text)\n",
        "            if \"access_token\" in query_str:\n",
        "                result = {\"access_token\": query_str[\"access_token\"][0]}\n",
        "                if \"expires\" in query_str:\n",
        "                    result[\"expires\"] = query_str[\"expires\"][0]\n",
        "            else:\n",
        "                raise HangmanAPIError(response.json())\n",
        "        else:\n",
        "            raise HangmanAPIError('Maintype was not text, or querystring')\n",
        "\n",
        "        if result and isinstance(result, dict) and result.get(\"error\"):\n",
        "            raise HangmanAPIError(result)\n",
        "        return result\n"
      ]
    },
    {
      "cell_type": "markdown",
      "metadata": {
        "id": "i0VcOUzI0GIV"
      },
      "source": [
        "# API Usage Examples"
      ]
    },
    {
      "cell_type": "markdown",
      "metadata": {
        "id": "YdronlaS0GIV"
      },
      "source": [
        "## To start a new game:\n",
        "1. Make sure you have implemented your own \"guess\" method.\n",
        "2. Use the access_token that we sent you to create your HangmanAPI object.\n",
        "3. Start a game by calling \"start_game\" method.\n",
        "4. If you wish to test your function without being recorded, set \"practice\" parameter to 1.\n",
        "5. Note: You have a rate limit of 20 new games per minute. DO NOT start more than 20 new games within one minute."
      ]
    },
    {
      "cell_type": "code",
      "execution_count": 5,
      "metadata": {
        "id": "qYoW8tqq0GIW"
      },
      "outputs": [],
      "source": [
        "api = HangmanAPI(access_token=\"310b8099fa3ecfca3fd74f409d9b61\", timeout=2000)\n"
      ]
    },
    {
      "cell_type": "markdown",
      "metadata": {
        "id": "0VTuB_q70GIW"
      },
      "source": [
        "## Playing practice games:\n",
        "You can use the command below to play up to 100,000 practice games."
      ]
    },
    {
      "cell_type": "code",
      "execution_count": 19,
      "metadata": {
        "colab": {
          "base_uri": "https://localhost:8080/"
        },
        "id": "AVWRllHN0GIW",
        "outputId": "dc70a0a7-8ef6-47db-cde0-3eddbc64d8eb",
        "scrolled": true
      },
      "outputs": [
        {
          "output_type": "stream",
          "name": "stdout",
          "text": [
            "Successfully start a new game! Game ID: e3a89d9c549a. # of tries remaining: 6. Word: _ _ _ _ _ _ _ _ .\n",
            "\u001b[1m1/1\u001b[0m \u001b[32m━━━━━━━━━━━━━━━━━━━━\u001b[0m\u001b[37m\u001b[0m \u001b[1m0s\u001b[0m 21ms/step\n",
            "Guessing letter: !\n",
            "Sever response: {'game_id': 'e3a89d9c549a', 'status': 'ongoing', 'tries_remains': 5, 'word': '_ _ _ _ _ _ _ _ '}\n",
            "\u001b[1m1/1\u001b[0m \u001b[32m━━━━━━━━━━━━━━━━━━━━\u001b[0m\u001b[37m\u001b[0m \u001b[1m0s\u001b[0m 19ms/step\n",
            "Guessing letter: e\n",
            "Sever response: {'game_id': 'e3a89d9c549a', 'status': 'ongoing', 'tries_remains': 4, 'word': '_ _ _ _ _ _ _ _ '}\n",
            "\u001b[1m1/1\u001b[0m \u001b[32m━━━━━━━━━━━━━━━━━━━━\u001b[0m\u001b[37m\u001b[0m \u001b[1m0s\u001b[0m 18ms/step\n",
            "Guessing letter: i\n",
            "Sever response: {'game_id': 'e3a89d9c549a', 'status': 'ongoing', 'tries_remains': 4, 'word': '_ i _ _ _ _ i _ '}\n",
            "\u001b[1m1/1\u001b[0m \u001b[32m━━━━━━━━━━━━━━━━━━━━\u001b[0m\u001b[37m\u001b[0m \u001b[1m0s\u001b[0m 18ms/step\n",
            "Guessing letter: a\n",
            "Sever response: {'game_id': 'e3a89d9c549a', 'status': 'ongoing', 'tries_remains': 4, 'word': '_ i a _ _ _ i _ '}\n",
            "\u001b[1m1/1\u001b[0m \u001b[32m━━━━━━━━━━━━━━━━━━━━\u001b[0m\u001b[37m\u001b[0m \u001b[1m0s\u001b[0m 24ms/step\n",
            "Guessing letter: n\n",
            "Sever response: {'game_id': 'e3a89d9c549a', 'status': 'ongoing', 'tries_remains': 4, 'word': '_ i a _ _ n i _ '}\n",
            "\u001b[1m1/1\u001b[0m \u001b[32m━━━━━━━━━━━━━━━━━━━━\u001b[0m\u001b[37m\u001b[0m \u001b[1m0s\u001b[0m 18ms/step\n",
            "Guessing letter: o\n",
            "Sever response: {'game_id': 'e3a89d9c549a', 'status': 'ongoing', 'tries_remains': 4, 'word': '_ i a _ o n i _ '}\n",
            "\u001b[1m1/1\u001b[0m \u001b[32m━━━━━━━━━━━━━━━━━━━━\u001b[0m\u001b[37m\u001b[0m \u001b[1m0s\u001b[0m 18ms/step\n",
            "Guessing letter: r\n",
            "Sever response: {'game_id': 'e3a89d9c549a', 'status': 'ongoing', 'tries_remains': 3, 'word': '_ i a _ o n i _ '}\n",
            "\u001b[1m1/1\u001b[0m \u001b[32m━━━━━━━━━━━━━━━━━━━━\u001b[0m\u001b[37m\u001b[0m \u001b[1m0s\u001b[0m 18ms/step\n",
            "Guessing letter: s\n",
            "Sever response: {'game_id': 'e3a89d9c549a', 'status': 'ongoing', 'tries_remains': 2, 'word': '_ i a _ o n i _ '}\n",
            "\u001b[1m1/1\u001b[0m \u001b[32m━━━━━━━━━━━━━━━━━━━━\u001b[0m\u001b[37m\u001b[0m \u001b[1m0s\u001b[0m 19ms/step\n",
            "Guessing letter: t\n",
            "Sever response: {'game_id': 'e3a89d9c549a', 'status': 'ongoing', 'tries_remains': 1, 'word': '_ i a _ o n i _ '}\n",
            "\u001b[1m1/1\u001b[0m \u001b[32m━━━━━━━━━━━━━━━━━━━━\u001b[0m\u001b[37m\u001b[0m \u001b[1m0s\u001b[0m 20ms/step\n",
            "Guessing letter: l\n",
            "Sever response: {'game_id': 'e3a89d9c549a', 'status': 'failed', 'tries_remains': 0, 'word': '_ i a _ o n i _ '}\n",
            "Failed game: e3a89d9c549a. Because of: # of tries exceeded!\n",
            "run 48 practice games out of an allotted 100,000. practice success rate so far = 0.062\n"
          ]
        }
      ],
      "source": [
        "api.start_game(practice=1,verbose=True)\n",
        "[total_practice_runs,total_recorded_runs,total_recorded_successes,total_practice_successes] = api.my_status() # Get my game stats: (# of tries, # of wins)\n",
        "practice_success_rate = total_practice_successes / total_practice_runs\n",
        "print('run %d practice games out of an allotted 100,000. practice success rate so far = %.3f' % (total_practice_runs, practice_success_rate))\n"
      ]
    },
    {
      "cell_type": "markdown",
      "metadata": {
        "id": "rqvRNkj30GIW"
      },
      "source": [
        "## Playing recorded games:\n",
        "Please finalize your code prior to running the cell below. Once this code executes once successfully your submission will be finalized. Our system will not allow you to rerun any additional games.\n",
        "\n",
        "Please note that it is expected that after you successfully run this block of code that subsequent runs will result in the error message \"Your account has been deactivated\".\n",
        "\n",
        "Once you've run this section of the code your submission is complete. Please send us your source code via email."
      ]
    },
    {
      "cell_type": "code",
      "execution_count": null,
      "metadata": {
        "id": "yeT0QoqI0GIW"
      },
      "outputs": [],
      "source": [
        "for i in range(1000):\n",
        "    print('Playing ', i, ' th game')\n",
        "    # Uncomment the following line to execute your final runs. Do not do this until you are satisfied with your submission\n",
        "    # api.start_game(practice=0,verbose=False)\n",
        "\n",
        "    # DO NOT REMOVE as otherwise the server may lock you out for too high frequency of requests\n",
        "    time.sleep(0.5)"
      ]
    },
    {
      "cell_type": "code",
      "execution_count": null,
      "metadata": {
        "id": "H-8krQQU0GIW"
      },
      "outputs": [],
      "source": []
    },
    {
      "cell_type": "markdown",
      "metadata": {
        "id": "X_FVEeZQ0GIX"
      },
      "source": [
        "## To check your game statistics\n",
        "1. Simply use \"my_status\" method.\n",
        "2. Returns your total number of games, and number of wins."
      ]
    },
    {
      "cell_type": "code",
      "execution_count": null,
      "metadata": {
        "colab": {
          "base_uri": "https://localhost:8080/",
          "height": 198
        },
        "id": "JXeAoWIb0GIX",
        "outputId": "227d620d-8157-4400-d7c4-6bf1e2509e29"
      },
      "outputs": [
        {
          "ename": "ZeroDivisionError",
          "evalue": "division by zero",
          "output_type": "error",
          "traceback": [
            "\u001b[0;31m---------------------------------------------------------------------------\u001b[0m",
            "\u001b[0;31mZeroDivisionError\u001b[0m                         Traceback (most recent call last)",
            "\u001b[0;32m<ipython-input-20-5854e6e76532>\u001b[0m in \u001b[0;36m<cell line: 2>\u001b[0;34m()\u001b[0m\n\u001b[1;32m      1\u001b[0m \u001b[0;34m[\u001b[0m\u001b[0mtotal_practice_runs\u001b[0m\u001b[0;34m,\u001b[0m\u001b[0mtotal_recorded_runs\u001b[0m\u001b[0;34m,\u001b[0m\u001b[0mtotal_recorded_successes\u001b[0m\u001b[0;34m,\u001b[0m\u001b[0mtotal_practice_successes\u001b[0m\u001b[0;34m]\u001b[0m \u001b[0;34m=\u001b[0m \u001b[0mapi\u001b[0m\u001b[0;34m.\u001b[0m\u001b[0mmy_status\u001b[0m\u001b[0;34m(\u001b[0m\u001b[0;34m)\u001b[0m \u001b[0;31m# Get my game stats: (# of tries, # of wins)\u001b[0m\u001b[0;34m\u001b[0m\u001b[0;34m\u001b[0m\u001b[0m\n\u001b[0;32m----> 2\u001b[0;31m \u001b[0msuccess_rate\u001b[0m \u001b[0;34m=\u001b[0m \u001b[0mtotal_recorded_successes\u001b[0m\u001b[0;34m/\u001b[0m\u001b[0mtotal_recorded_runs\u001b[0m\u001b[0;34m\u001b[0m\u001b[0;34m\u001b[0m\u001b[0m\n\u001b[0m\u001b[1;32m      3\u001b[0m \u001b[0mprint\u001b[0m\u001b[0;34m(\u001b[0m\u001b[0;34m'overall success rate = %.3f'\u001b[0m \u001b[0;34m%\u001b[0m \u001b[0msuccess_rate\u001b[0m\u001b[0;34m)\u001b[0m\u001b[0;34m\u001b[0m\u001b[0;34m\u001b[0m\u001b[0m\n",
            "\u001b[0;31mZeroDivisionError\u001b[0m: division by zero"
          ]
        }
      ],
      "source": [
        "[total_practice_runs,total_recorded_runs,total_recorded_successes,total_practice_successes] = api.my_status() # Get my game stats: (# of tries, # of wins)\n",
        "success_rate = total_recorded_successes/total_recorded_runs\n",
        "print('overall success rate = %.3f' % success_rate)"
      ]
    },
    {
      "cell_type": "code",
      "execution_count": null,
      "metadata": {
        "id": "TBrEjY4_0GIX"
      },
      "outputs": [],
      "source": []
    }
  ],
  "metadata": {
    "colab": {
      "provenance": [],
      "gpuType": "T4"
    },
    "kernelspec": {
      "display_name": "Python 3",
      "name": "python3"
    },
    "language_info": {
      "codemirror_mode": {
        "name": "ipython",
        "version": 3
      },
      "file_extension": ".py",
      "mimetype": "text/x-python",
      "name": "python",
      "nbconvert_exporter": "python",
      "pygments_lexer": "ipython3",
      "version": "3.10.6"
    },
    "accelerator": "GPU"
  },
  "nbformat": 4,
  "nbformat_minor": 0
}